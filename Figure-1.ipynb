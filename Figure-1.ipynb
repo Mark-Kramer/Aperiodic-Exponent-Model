{
 "cells": [
  {
   "cell_type": "markdown",
   "id": "ba424429-ee98-40b5-8d37-d17792c68801",
   "metadata": {},
   "source": [
    "# Figure 1"
   ]
  },
  {
   "cell_type": "markdown",
   "id": "1f8406d2-9887-45c4-8eaf-4b948c2f1fbb",
   "metadata": {},
   "source": [
    "NOTE: If you're running this on **Google Colab**, then uncomment and run the next two cells."
   ]
  },
  {
   "cell_type": "code",
   "execution_count": null,
   "id": "6ef9ab21-0a1f-43f4-94d8-fab54930e875",
   "metadata": {},
   "outputs": [],
   "source": [
    "# !git clone https://github.com/Mark-Kramer/Aperiodic-Exponent-Model.git"
   ]
  },
  {
   "cell_type": "code",
   "execution_count": null,
   "id": "026b6f97-c105-4d75-bcb2-e695be43d902",
   "metadata": {},
   "outputs": [],
   "source": [
    "# import sys\n",
    "# sys.path.insert(0,'/content/Aperiodic-Exponent-Model')"
   ]
  },
  {
   "cell_type": "markdown",
   "id": "3470c5ec-ba91-4c10-b3ff-58789f67e1fb",
   "metadata": {},
   "source": [
    "---"
   ]
  },
  {
   "cell_type": "markdown",
   "id": "1a9d8914-6a7a-4064-bea9-2bf5f7ebe749",
   "metadata": {},
   "source": [
    "## Load packages"
   ]
  },
  {
   "cell_type": "code",
   "execution_count": null,
   "id": "b187321b-14f3-4cc1-ae68-c89346db50ce",
   "metadata": {},
   "outputs": [],
   "source": [
    "import numpy as np\n",
    "import scipy.io as io\n",
    "import matplotlib.pyplot as plt\n",
    "from   matplotlib.backends.backend_pdf import PdfPages"
   ]
  },
  {
   "cell_type": "markdown",
   "id": "751bd552-3820-4ec3-9e8e-3da838e4aded",
   "metadata": {},
   "source": [
    "## Define useful functions"
   ]
  },
  {
   "cell_type": "code",
   "execution_count": null,
   "id": "50e822fe-67a0-451d-9585-501c5db9a07c",
   "metadata": {},
   "outputs": [],
   "source": [
    "# Simulate the generative model.\n",
    "def damped_oscillator_with_noise(noise):\n",
    "    omega  = 2*np.pi*6          # Fix natural frequency.\n",
    "    delta  = 1                  # Fix damping coefficient.\n",
    "    dt     = 0.0001             # Small time step, to deal with noise.\n",
    "    N      = 100000             # Total number of steps.\n",
    "\n",
    "    V = np.zeros([N])           # Output variables\n",
    "    I = np.zeros([N])\n",
    "    t = np.arange(N)*dt\n",
    "    \n",
    "    for n in np.arange(N-1):    # Simulate the model\n",
    "        V[n+1]  = V[n]  + dt*(I[n])                        + noise[\"voltage\"]*np.random.randn()*np.sqrt(dt)\n",
    "        I[n+1]  = I[n]  + dt*(-delta*I[n] - omega**2*V[n]) + noise[\"current\"]*np.random.randn()*np.sqrt(dt)\n",
    "    \n",
    "    return V,I,t\n",
    "\n",
    "# Compute the spectrum.\n",
    "def compute_spectrum(x,t):                         # Compute the spectrum of signal x, time axis t in [s].\n",
    "    N   = np.size(x)                               # Number of data points\n",
    "    dt  = t[2]-t[1]                                # Time resolution, in [s].\n",
    "    T   = t[-1]                                    # Total time of data, in [s].\n",
    "    xf  = np.fft.fft(np.hanning(N)*(x-np.mean(x))) # Fourier transform of data, Hanning taper, 0-mean.\n",
    "    S   = np.real(2*dt**2/T*(xf*np.conj(xf)))      # Spectrum\n",
    "    S   = S[1:int(N/2)+1]                          # Keep only non-negative frequencies\n",
    "    df  = 1/T                                      # Frequency resolution, in [Hz]\n",
    "    fNQ = 1/dt/2                                   # Nyquist frequency, in [Hz]\n",
    "    f   = np.arange(0,fNQ,df)                      # Frequency axis, in [Hz]\n",
    "    return S, f\n",
    "\n",
    "# Compute the aperiodic exponent.\n",
    "def estimate_aperiodic_exponent(S,f,finterval):\n",
    "    freq_interval_to_fit = (f >= finterval[0]) & (f<=finterval[1])      # For this frequency range,\n",
    "                                                                        # Fit linear model: log10(S) vs log10(f)\n",
    "    linear_fit           = np.polyfit(np.log10(f[freq_interval_to_fit]), np.log10(S[freq_interval_to_fit]), 1)\n",
    "    x_linear_fit         = np.log10(f[freq_interval_to_fit])            # Return x-axis of fit.\n",
    "    y_linear_fit         = linear_fit[1] + linear_fit[0]*x_linear_fit   # Return y-axis of fit.\n",
    "    aperiodic_exponent   = linear_fit[0]                                # Return aperiodic exponent.\n",
    "    return aperiodic_exponent, x_linear_fit, y_linear_fit\n"
   ]
  },
  {
   "cell_type": "markdown",
   "id": "27943068-c189-420c-8abc-e6f40e69cb7f",
   "metadata": {},
   "source": [
    "## Figure 1A,B: Simulate the model, and plot it."
   ]
  },
  {
   "cell_type": "code",
   "execution_count": null,
   "id": "70dd7318-1a7c-41f1-90ad-da820eec2935",
   "metadata": {},
   "outputs": [],
   "source": [
    "noise = {\"voltage\":[],                          # Set the voltage noise,\n",
    "         \"current\":1  }                         # ... and the current noise.\n",
    "fig, ((ax1, ax2,), (ax3, ax4)) = plt.subplots(2, 2,figsize=(12, 6), dpi=80)\n",
    "\n",
    "noise[\"voltage\"]=0.0;                           # Voltage noise = 0.\n",
    "[V,I,t]= damped_oscillator_with_noise(noise)    # Simulate model,\n",
    "[S,f]  = compute_spectrum(V,t)                  # ... compute the spectrum & fit aperiodic exponent.\n",
    "[aperiodic_exponent, x_linear_fit, y_linear_fit] = estimate_aperiodic_exponent(S,f,[20,250])\n",
    "\n",
    "ax1.plot(t,V, 'k');                              ax1.set(xlabel=\"Time [s]\", ylabel='[a.u.]')\n",
    "ax3.plot(np.log10(f[2:]), np.log10(S[2:]), 'k'); ax3.set(xlabel=\"Log$_{10}$(Frequency [Hz]\", ylabel=\"Log$_{10}$(P)\")\n",
    "ax3.plot(x_linear_fit, y_linear_fit, 'r');       ax3.text(x_linear_fit[0],y_linear_fit[0]+2, \"Aperiodic exponent: %.2f\" % aperiodic_exponent);\n",
    "\n",
    "noise[\"voltage\"]=0.03;                          # Voltage noise > 0.\n",
    "[V,I,t]= damped_oscillator_with_noise(noise)    # Simulate model,\n",
    "[S,f]  = compute_spectrum(V,t)                  # ... compute the spectrum & fit aperiodic exponent.\n",
    "[aperiodic_exponent, x_linear_fit, y_linear_fit] = estimate_aperiodic_exponent(S,f,[20,250])\n",
    "\n",
    "ax2.plot(t,V, 'k');                              ax2.set(xlabel=\"Time [s]\", ylabel='[a.u.]')\n",
    "ax4.plot(np.log10(f[2:]), np.log10(S[2:]), 'k'); ax4.set(xlabel=\"Log$_{10}$(Frequency [Hz]\", ylabel=\"Log$_{10}$(P)\")\n",
    "ax4.plot(x_linear_fit, y_linear_fit, 'r');       ax4.text(x_linear_fit[0],y_linear_fit[0]+2, \"Aperiodic exponent: %.2f\" % aperiodic_exponent);\n",
    "\n",
    "                                                # Prettify plots\n",
    "ax1.spines[\"top\"].set_visible(False); ax1.spines[\"right\"].set_visible(False)\n",
    "ax2.spines[\"top\"].set_visible(False); ax2.spines[\"right\"].set_visible(False)\n",
    "ax3.spines[\"top\"].set_visible(False); ax3.spines[\"right\"].set_visible(False)\n",
    "ax4.spines[\"top\"].set_visible(False); ax4.spines[\"right\"].set_visible(False)\n",
    "\n",
    "#fig.savefig(\"./PDFs/Figure-1AB.pdf\", bbox_inches='tight')"
   ]
  },
  {
   "cell_type": "markdown",
   "id": "3fb871a9-88c7-4f98-b93b-773f64902473",
   "metadata": {},
   "source": [
    "## Figure 1C (Part 1): Iterative over values of voltage noise and plot aperiodic exponent\n",
    "This part is slow."
   ]
  },
  {
   "cell_type": "code",
   "execution_count": null,
   "id": "b6094ce4-2024-433b-910d-5c271ae70570",
   "metadata": {},
   "outputs": [],
   "source": [
    "noise = {\"voltage\":[],                                     # Prepare the noise variable.\n",
    "         \"current\":1  }                                    # ... fix the current noise,\n",
    "V_noise_values = np.arange(0.0001,0.03, 0.0002)            # ... define range of voltage noises.\n",
    "N_replicates   = 100                                       # Number of times to repeat simulation.\n",
    "aperiodic_exponents = np.zeros([np.size(V_noise_values), N_replicates])\n",
    "\n",
    "for [count, V_noise] in enumerate(V_noise_values):         # For each voltage noise,\n",
    "    noise[\"voltage\"]=V_noise\n",
    "    print(\"V_noise: %.4f\" % V_noise)\n",
    "    for j in np.arange(N_replicates):\n",
    "        [V,I,t]= damped_oscillator_with_noise(noise)       # Simulate model N_replicate times,\n",
    "        [S,f]  = compute_spectrum(V,t)                     # ... compute the spectrum,\n",
    "        ae = estimate_aperiodic_exponent(S,f,[20,250])[0]  # ... fit aperiodic exponent,\n",
    "        aperiodic_exponents[count, j]   = ae               # ... and save it.\n",
    "                                                           # Save the results.\n",
    "res = {\"V_noise_values\":V_noise_values, \"aperiodic_exponents\":aperiodic_exponents}\n",
    "io.savemat(str('Figure-1C.mat'), res)"
   ]
  },
  {
   "cell_type": "markdown",
   "id": "537da9c6-3818-4733-b275-5333e1292b23",
   "metadata": {},
   "source": [
    "## Figure 1C (Part 2): Load the aperiodic exponent, and plot it.\n",
    "\n",
    "This part is fast."
   ]
  },
  {
   "cell_type": "code",
   "execution_count": null,
   "id": "ea1f77ac-b637-4628-b876-30d47315b610",
   "metadata": {},
   "outputs": [],
   "source": [
    "# Note: if you're running on Google Colab, then load the .mat file like this:\n",
    "# res = io.loadmat(\"/content/Aperiodic-Exponent-Model/Figure-1.mat\");\n",
    "\n",
    "# Or, if not running on Google Colab, then load the .mat file like this:\n",
    "res = io.loadmat(\"Figure-1C.mat\")\n",
    "\n",
    "aperiodic_exponents = res[\"aperiodic_exponents\"]\n",
    "V_noise_values      = res[\"V_noise_values\"]\n",
    "\n",
    "bounds = np.quantile(aperiodic_exponents,[0.025,0.975],1)\n",
    "mean   = np.mean(aperiodic_exponents,1)\n",
    "\n",
    "fig = plt.figure(figsize=(12, 4), dpi=80)\n",
    "plt.plot(np.squeeze(V_noise_values),mean,'k')\n",
    "plt.plot(np.squeeze(V_noise_values),bounds[0,:],'red')\n",
    "plt.plot(np.squeeze(V_noise_values),bounds[1,:],'red')\n",
    "plt.fill_between(np.squeeze(V_noise_values),bounds[0,:],bounds[1,:], facecolor='red', alpha=0.5)\n",
    "plt.grid(True); plt.xlim([0.0, 0.03])\n",
    "plt.xlabel('Voltage Noise'); plt.ylabel('Aperiodic Exponent');\n",
    "\n",
    "#fig.savefig(\"./PDFs/Figure-1C.pdf\", bbox_inches='tight')"
   ]
  }
 ],
 "metadata": {
  "kernelspec": {
   "display_name": "Python 3",
   "language": "python",
   "name": "python3"
  },
  "language_info": {
   "codemirror_mode": {
    "name": "ipython",
    "version": 3
   },
   "file_extension": ".py",
   "mimetype": "text/x-python",
   "name": "python",
   "nbconvert_exporter": "python",
   "pygments_lexer": "ipython3",
   "version": "3.8.8"
  }
 },
 "nbformat": 4,
 "nbformat_minor": 5
}

{
 "cells": [
  {
   "cell_type": "markdown",
   "id": "ba424429-ee98-40b5-8d37-d17792c68801",
   "metadata": {},
   "source": [
    "# Figure 1"
   ]
  },
  {
   "cell_type": "markdown",
   "id": "1f8406d2-9887-45c4-8eaf-4b948c2f1fbb",
   "metadata": {},
   "source": [
    "NOTE: If you're running this on **Google Colab**, then uncomment and run the next two cells."
   ]
  },
  {
   "cell_type": "code",
   "execution_count": null,
   "id": "6ef9ab21-0a1f-43f4-94d8-fab54930e875",
   "metadata": {},
   "outputs": [],
   "source": [
    "# !git clone https://github.com/Mark-Kramer/Aperiodic-Exponent-Model.git"
   ]
  },
  {
   "cell_type": "code",
   "execution_count": null,
   "id": "026b6f97-c105-4d75-bcb2-e695be43d902",
   "metadata": {},
   "outputs": [],
   "source": [
    "# import sys\n",
    "# sys.path.insert(0,'/content/Aperiodic-Exponent-Model')"
   ]
  },
  {
   "cell_type": "markdown",
   "id": "3470c5ec-ba91-4c10-b3ff-58789f67e1fb",
   "metadata": {},
   "source": [
    "---"
   ]
  },
  {
   "cell_type": "markdown",
   "id": "1a9d8914-6a7a-4064-bea9-2bf5f7ebe749",
   "metadata": {},
   "source": [
    "## Load packages"
   ]
  },
  {
   "cell_type": "code",
   "execution_count": null,
   "id": "b187321b-14f3-4cc1-ae68-c89346db50ce",
   "metadata": {},
   "outputs": [],
   "source": [
    "import numpy as np\n",
    "import scipy.io as io\n",
    "import matplotlib.pyplot as plt\n",
    "from   matplotlib.backends.backend_pdf import PdfPages"
   ]
  },
  {
   "cell_type": "markdown",
   "id": "6f05d7bf-8269-474c-a01e-9fc1d2dfb2cc",
   "metadata": {},
   "source": [
    "## Load functions for computations and plotting"
   ]
  },
  {
   "cell_type": "code",
   "execution_count": null,
   "id": "d83d19fc-2265-482e-bcd6-4780a0c5733c",
   "metadata": {},
   "outputs": [],
   "source": [
    "from one_over_f_functions import *"
   ]
  },
  {
   "cell_type": "markdown",
   "id": "751bd552-3820-4ec3-9e8e-3da838e4aded",
   "metadata": {},
   "source": [
    "## Define the model"
   ]
  },
  {
   "cell_type": "code",
   "execution_count": null,
   "id": "50e822fe-67a0-451d-9585-501c5db9a07c",
   "metadata": {},
   "outputs": [],
   "source": [
    "# Simulate the generative model.\n",
    "def HH_M(noise):\n",
    "    \n",
    "    I0=1; gM=4; EK=-95;         # Parameters for HH-type model\n",
    "    \n",
    "    N = 120000;\n",
    "    dt = 0.01;\n",
    "    \n",
    "    V = np.zeros([N])                         # Output variables\n",
    "    M = np.zeros([N])\n",
    "    t = np.arange(N)*dt/1000                  # Time in [ms]\n",
    "    \n",
    "    V[0] = -70                                # Initial conditions\n",
    "    M[0] = 0.0\n",
    "    \n",
    "    for n in np.arange(N-1):                  # Simulate the model\n",
    "        aM     = 0.02 / (1+np.exp((-V[n]-20)/5))\n",
    "        bM     = 0.01 *    np.exp((-V[n]-43)/18)\n",
    "        V[n+1] = V[n] + dt*(I0 + gM*M[n]*(EK-V[n]) + noise[\"V\"]*np.random.randn())\n",
    "        M[n+1] = M[n] + dt*(aM*(1-M[n]) - bM*M[n]  + noise[\"M\"]*np.random.randn())\n",
    "    \n",
    "    V = V[20000:]; M = M[20000:]              # Drop initial transient.\n",
    "    t = t[20000:]-t[20000]                    # start time at 0 s.\n",
    "    \n",
    "    return V,M,t"
   ]
  },
  {
   "cell_type": "markdown",
   "id": "27943068-c189-420c-8abc-e6f40e69cb7f",
   "metadata": {},
   "source": [
    "## Figure 1A-D: Simulate the model, and plot it."
   ]
  },
  {
   "cell_type": "code",
   "execution_count": null,
   "id": "875b8950-83cb-4a7c-aa42-726a6011b63e",
   "metadata": {},
   "outputs": [],
   "source": [
    "noise = {\"V\":[],                           # Set the V noise,\n",
    "         \"M\":0.01  }                       # ... and the M noise.\n",
    "fig, ((ax1, ax2,), (ax3, ax4)) = plt.subplots(2, 2,figsize=(12, 6), dpi=80)\n",
    "\n",
    "noise[\"V\"]=0.0;                            # V noise = 0.\n",
    "[V,M,t] = HH_M(noise)                      # Simulate model,\n",
    "[S,f]   = compute_spectrum(V,t)            # ... compute the spectrum & fit aperiodic exponent.\n",
    "[aperiodic_exponent, x_linear_fit, y_linear_fit] = estimate_aperiodic_exponent(S,f,[50,250])\n",
    "make_plots(t,V, f,S, x_linear_fit,y_linear_fit,aperiodic_exponent, ax1,ax3);\n",
    "ax1.set_ylim([-90, -30]); ax3.set_ylim([-20, 5]);\n",
    "\n",
    "noise[\"V\"]=20;                             # V noise > 0.\n",
    "[V,M,t] = HH_M(noise)                      # Simulate model,\n",
    "[S,f]   = compute_spectrum(V,t)            # ... compute the spectrum & fit aperiodic exponent.\n",
    "[aperiodic_exponent, x_linear_fit, y_linear_fit] = estimate_aperiodic_exponent(S,f,[50,250])\n",
    "make_plots(t,V, f,S, x_linear_fit,y_linear_fit,aperiodic_exponent, ax2,ax4);\n",
    "ax2.set_ylim([-90, -30]); ax4.set_ylim([-20, 5]);\n",
    "\n",
    "#fig.savefig(\"./PDFs/Figure-1ABCD.pdf\", bbox_inches='tight')"
   ]
  },
  {
   "cell_type": "markdown",
   "id": "3fb871a9-88c7-4f98-b93b-773f64902473",
   "metadata": {},
   "source": [
    "## Figure 1E (Part 1): Iterate over values of noise and plot aperiodic exponent\n",
    "This part is slow."
   ]
  },
  {
   "cell_type": "code",
   "execution_count": null,
   "id": "b6094ce4-2024-433b-910d-5c271ae70570",
   "metadata": {},
   "outputs": [],
   "source": [
    "noise = {\"V\":[],                                           # Prepare the noise variable.\n",
    "         \"M\":0.01  }                                       # ... fix the M noise,\n",
    "noise_values = np.arange(0.0,30.1, 1)                      # ... define range of V noises.\n",
    "N_replicates = 100                                         # Number of times to repeat simulation.\n",
    "aperiodic_exponents = np.zeros([np.size(noise_values), N_replicates])\n",
    "\n",
    "for [count, V_noise] in enumerate(noise_values):           # For each V noise,\n",
    "    noise[\"V\"]=V_noise\n",
    "    print(\"V_noise: %.4f\" % V_noise)\n",
    "    for j in np.arange(N_replicates):\n",
    "        [V,M,t]= HH_M(noise)            # Simulate model N_replicate times,\n",
    "        [S,f]  = compute_spectrum(V,t)                     # ... compute the spectrum,\n",
    "        ae = estimate_aperiodic_exponent(S,f,[50,250])[0]  # ... fit aperiodic exponent,\n",
    "        aperiodic_exponents[count, j] = ae                 # ... and save it.\n",
    "                                                           # Save the results.\n",
    "res = {\"noise_values\":noise_values, \"aperiodic_exponents\":aperiodic_exponents}\n",
    "io.savemat(str('Figure-1E.mat'), res)"
   ]
  },
  {
   "cell_type": "markdown",
   "id": "537da9c6-3818-4733-b275-5333e1292b23",
   "metadata": {},
   "source": [
    "## Figure 1E (Part 2): Load the aperiodic exponent, and plot it.\n",
    "\n",
    "This part is fast."
   ]
  },
  {
   "cell_type": "code",
   "execution_count": null,
   "id": "162171be-5d0c-4502-9f51-916b28ae2d62",
   "metadata": {},
   "outputs": [],
   "source": [
    "# Note: if you're running on Google Colab, then load the .mat file like this:\n",
    "# res = io.loadmat(\"/content/Aperiodic-Exponent-Model/Figure-1E.mat\");\n",
    "\n",
    "# Or, if not running on Google Colab, then load the .mat file like this:\n",
    "res = io.loadmat(\"Figure-1E.mat\");  res[\"color\"] = \"red\"\n",
    "\n",
    "fig = plt.figure(figsize=(12, 4), dpi=80)\n",
    "make_plot_ae_vs_noise(res); plt.xlim([0,30])\n",
    "\n",
    "#fig.savefig(\"./PDFs/Figure-1E.pdf\", bbox_inches='tight')"
   ]
  }
 ],
 "metadata": {
  "kernelspec": {
   "display_name": "Python 3",
   "language": "python",
   "name": "python3"
  },
  "language_info": {
   "codemirror_mode": {
    "name": "ipython",
    "version": 3
   },
   "file_extension": ".py",
   "mimetype": "text/x-python",
   "name": "python",
   "nbconvert_exporter": "python",
   "pygments_lexer": "ipython3",
   "version": "3.8.8"
  }
 },
 "nbformat": 4,
 "nbformat_minor": 5
}

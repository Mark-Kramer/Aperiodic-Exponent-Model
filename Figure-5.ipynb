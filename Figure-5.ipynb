{
 "cells": [
  {
   "cell_type": "markdown",
   "id": "ba424429-ee98-40b5-8d37-d17792c68801",
   "metadata": {},
   "source": [
    "# Figure 5"
   ]
  },
  {
   "cell_type": "markdown",
   "id": "1f8406d2-9887-45c4-8eaf-4b948c2f1fbb",
   "metadata": {},
   "source": [
    "NOTE: If you're running this on **Google Colab**, then uncomment and run the next two cells."
   ]
  },
  {
   "cell_type": "code",
   "execution_count": null,
   "id": "6ef9ab21-0a1f-43f4-94d8-fab54930e875",
   "metadata": {},
   "outputs": [],
   "source": [
    "# !git clone https://github.com/Mark-Kramer/Aperiodic-Exponent-Model.git"
   ]
  },
  {
   "cell_type": "code",
   "execution_count": null,
   "id": "026b6f97-c105-4d75-bcb2-e695be43d902",
   "metadata": {},
   "outputs": [],
   "source": [
    "# import sys\n",
    "# sys.path.insert(0,'/content/Aperiodic-Exponent-Model')"
   ]
  },
  {
   "cell_type": "markdown",
   "id": "3470c5ec-ba91-4c10-b3ff-58789f67e1fb",
   "metadata": {},
   "source": [
    "---"
   ]
  },
  {
   "cell_type": "markdown",
   "id": "1a9d8914-6a7a-4064-bea9-2bf5f7ebe749",
   "metadata": {},
   "source": [
    "## Load packages"
   ]
  },
  {
   "cell_type": "code",
   "execution_count": null,
   "id": "b187321b-14f3-4cc1-ae68-c89346db50ce",
   "metadata": {},
   "outputs": [],
   "source": [
    "import numpy as np\n",
    "import scipy.io as io\n",
    "import matplotlib.pyplot as plt\n",
    "from   matplotlib.backends.backend_pdf import PdfPages"
   ]
  },
  {
   "cell_type": "markdown",
   "id": "433a7ec1-2324-4fcc-9879-5a8c8b2aa89e",
   "metadata": {},
   "source": [
    "## Load functions for computations and plotting"
   ]
  },
  {
   "cell_type": "code",
   "execution_count": null,
   "id": "6162ca4f-f070-4062-856f-ab17ebad5163",
   "metadata": {},
   "outputs": [],
   "source": [
    "from one_over_f_functions import *"
   ]
  },
  {
   "cell_type": "markdown",
   "id": "e7635c42-6c65-4e37-8550-15c88a27b003",
   "metadata": {},
   "source": [
    "## Define the model"
   ]
  },
  {
   "cell_type": "code",
   "execution_count": null,
   "id": "e818ead3-e5a7-422a-9c10-21e36330941c",
   "metadata": {},
   "outputs": [],
   "source": [
    "# Simulate the generative model.\n",
    "def predator_prey(noise,params):\n",
    "    \n",
    "    N = 250000\n",
    "    dt = 0.0002\n",
    "    alpha = params[\"alpha\"]\n",
    "    gamma = params[\"gamma\"]\n",
    "    \n",
    "    x = np.zeros([N])                         # Output variables\n",
    "    y = np.zeros([N])\n",
    "    t = np.arange(N)*dt                       # Time [a.u.]\n",
    "    \n",
    "    x[0] = 0.2+0.2*np.random.rand()           # Initial conditions\n",
    "    y[0] = 0.2+0.2*np.random.rand()\n",
    "    \n",
    "    for n in np.arange(N-1):                  # Simulate the model\n",
    "        x[n+1] = x[n] + dt*(x[n]*(gamma-x[n])/gamma - x[n]*y[n] + noise[\"x\"]*np.random.randn())\n",
    "        y[n+1] = y[n] + dt*(-alpha*y[n]             + x[n]*y[n] + noise[\"y\"]*np.random.randn())\n",
    "        \n",
    "    x = x[50000:]\n",
    "    y = y[50000:]\n",
    "    t = t[50000:]-t[50000]\n",
    "    \n",
    "    return x,y,t"
   ]
  },
  {
   "cell_type": "markdown",
   "id": "ff07e6ee-2605-4a4e-b191-0cc95e6a31d1",
   "metadata": {},
   "source": [
    "## Figure 5A: Plot analytic spectra for the predator-prey model."
   ]
  },
  {
   "cell_type": "code",
   "execution_count": null,
   "id": "bf5516c1-086d-45eb-b80c-3ee8a7455963",
   "metadata": {},
   "outputs": [],
   "source": [
    "noise = {\"x\":[],                           # Set the prey noise,\n",
    "         \"y\":1  }                          # ... and the predator noise.\n",
    "params= {\"alpha\":0.25,                     # Set the parameters.\n",
    "         \"gamma\":0.6}\n",
    "\n",
    "def S11_analytic(omega, noise_x):          # Compute spectrum of predator-prey model using analytic result.\n",
    "    a = -params[\"alpha\"]/params[\"gamma\"]\n",
    "    b = -params[\"alpha\"]\n",
    "    c = 1-params[\"alpha\"]/params[\"gamma\"]\n",
    "    d = 0\n",
    "    B11 = noise_x\n",
    "    B12 = 0\n",
    "    B21 = 0\n",
    "    B22 = noise[\"y\"]                       # See manuscript Appendix, Equation (A3)\n",
    "    S11 = (0.0625 + B11**2 * omega**2) / (2*np.pi*(0.0212674 - 0.118056*omega**2 + omega**4))\n",
    "    return S11\n",
    "                                           # Plot the spectrum for different prey noise.\n",
    "omega = np.arange(0.1,10000,0.1); f = 2*np.pi*omega;\n",
    "fig = plt.figure(figsize=(5, 5), dpi=80)\n",
    "S11 = S11_analytic(omega,0.1);   l1 = plt.plot(np.log10(omega), np.log10(S11), label=\"$\\sigma_x$=0.1\")\n",
    "S11 = S11_analytic(omega,0.01);  l2 = plt.plot(np.log10(omega), np.log10(S11), label=\"$\\sigma_x$=0.01\")\n",
    "S11 = S11_analytic(omega,0.001); l3 = plt.plot(np.log10(omega), np.log10(S11), label=\"$\\sigma_x$=0.001\")\n",
    "S11 = S11_analytic(omega,0.0);   l4 = plt.plot(np.log10(omega), np.log10(S11), label=\"$\\sigma_x$=0.0\")\n",
    "plt.xlabel(\"Log$_{10}$($\\omega$)\")\n",
    "plt.ylabel(\"Log$_{10}$(P)\")\n",
    "plt.yticks(np.arange(-18, 0, 2))\n",
    "plt.grid(\"on\")\n",
    "plt.legend();\n",
    "\n",
    "#plt.savefig(\"./PDFs/Figure-5A.pdf\", bbox_inches='tight')"
   ]
  },
  {
   "cell_type": "markdown",
   "id": "df24fdd8-4bd8-40bc-ba7c-3acbe5118f23",
   "metadata": {},
   "source": [
    "## Figure 5B: Plot estimated spectra from simualted predator-prey data."
   ]
  },
  {
   "cell_type": "code",
   "execution_count": null,
   "id": "93348e3f-88f1-44f8-a67c-834d8c981c4c",
   "metadata": {},
   "outputs": [],
   "source": [
    "noise = {\"x\":[],                           # Set the prey noise,\n",
    "         \"y\":1  }                          # ... and the predator noise.\n",
    "params= {\"alpha\":0.25,                     # Set the parameters.\n",
    "         \"gamma\":0.6}\n",
    "\n",
    "prey_noise = [0.1, 0.01, 0.001, 0.0];\n",
    "\n",
    "fig = plt.figure(figsize=(5, 5), dpi=80)\n",
    "for cnt, noise_x in enumerate(prey_noise):\n",
    "    noise[\"x\"]=noise_x;                            # Prey noise = 0.1.\n",
    "    [x,y,t] = predator_prey(noise,params)      # Simulate model,\n",
    "    [S,f]   = compute_spectrum(x,t)            # ... compute the spectrum.\n",
    "    plt.plot(np.log10(f[2:]), np.log10(S[2:]), label=\"$\\sigma_x$=\"+str(noise_x));\n",
    "plt.xlabel(\"Log$_{10}$(Frequency [Hz]\")\n",
    "plt.ylabel(\"Log$_{10}$(P)\")\n",
    "plt.xlim([0,3])\n",
    "plt.ylim([-24,-6])\n",
    "plt.yticks(np.arange(-24, -6, 2))\n",
    "plt.grid(\"on\")\n",
    "plt.legend();\n",
    "\n",
    "#plt.savefig(\"./PDFs/Figure-5B.pdf\", bbox_inches='tight')"
   ]
  }
 ],
 "metadata": {
  "kernelspec": {
   "display_name": "Python 3 (ipykernel)",
   "language": "python",
   "name": "python3"
  },
  "language_info": {
   "codemirror_mode": {
    "name": "ipython",
    "version": 3
   },
   "file_extension": ".py",
   "mimetype": "text/x-python",
   "name": "python",
   "nbconvert_exporter": "python",
   "pygments_lexer": "ipython3",
   "version": "3.8.18"
  }
 },
 "nbformat": 4,
 "nbformat_minor": 5
}

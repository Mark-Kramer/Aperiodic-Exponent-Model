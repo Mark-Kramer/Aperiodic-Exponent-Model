{
 "cells": [
  {
   "cell_type": "markdown",
   "id": "ba424429-ee98-40b5-8d37-d17792c68801",
   "metadata": {},
   "source": [
    "# Figure 4"
   ]
  },
  {
   "cell_type": "markdown",
   "id": "1f8406d2-9887-45c4-8eaf-4b948c2f1fbb",
   "metadata": {},
   "source": [
    "NOTE: If you're running this on **Google Colab**, then uncomment and run the next two cells."
   ]
  },
  {
   "cell_type": "code",
   "execution_count": null,
   "id": "6ef9ab21-0a1f-43f4-94d8-fab54930e875",
   "metadata": {},
   "outputs": [],
   "source": [
    "# !git clone https://github.com/Mark-Kramer/Aperiodic-Exponent-Model.git"
   ]
  },
  {
   "cell_type": "code",
   "execution_count": null,
   "id": "026b6f97-c105-4d75-bcb2-e695be43d902",
   "metadata": {},
   "outputs": [],
   "source": [
    "# import sys\n",
    "# sys.path.insert(0,'/content/Aperiodic-Exponent-Model')"
   ]
  },
  {
   "cell_type": "markdown",
   "id": "3470c5ec-ba91-4c10-b3ff-58789f67e1fb",
   "metadata": {},
   "source": [
    "---"
   ]
  },
  {
   "cell_type": "markdown",
   "id": "1a9d8914-6a7a-4064-bea9-2bf5f7ebe749",
   "metadata": {},
   "source": [
    "## Load packages"
   ]
  },
  {
   "cell_type": "code",
   "execution_count": null,
   "id": "b187321b-14f3-4cc1-ae68-c89346db50ce",
   "metadata": {},
   "outputs": [],
   "source": [
    "import numpy as np\n",
    "import scipy.io as io\n",
    "import matplotlib.pyplot as plt\n",
    "from   matplotlib.backends.backend_pdf import PdfPages"
   ]
  },
  {
   "cell_type": "markdown",
   "id": "6f05d7bf-8269-474c-a01e-9fc1d2dfb2cc",
   "metadata": {},
   "source": [
    "## Load functions for computations and plotting"
   ]
  },
  {
   "cell_type": "code",
   "execution_count": null,
   "id": "d83d19fc-2265-482e-bcd6-4780a0c5733c",
   "metadata": {},
   "outputs": [],
   "source": [
    "from one_over_f_functions import *"
   ]
  },
  {
   "cell_type": "markdown",
   "id": "751bd552-3820-4ec3-9e8e-3da838e4aded",
   "metadata": {},
   "source": [
    "## Define the model"
   ]
  },
  {
   "cell_type": "code",
   "execution_count": null,
   "id": "d7436327-ba45-4956-bc96-27065aeb1ddc",
   "metadata": {},
   "outputs": [],
   "source": [
    "# Simulate the generative model.\n",
    "def steyn_ross_2003(noise):\n",
    "    \n",
    "    tau_e = 0.04;      tau_i = 0.04            # Parameters from [Steyn-Ross et al., PRE, 2003]\n",
    "    hrest_e = -70.0;   hrest_i = -70.0\n",
    "    hrev_e = 45.0;     hrev_i = -90.0\n",
    "    Pee = 1100;        Pei = 1600\n",
    "    Pie = 1600;        Pii = 1100\n",
    "    gamma_e = 300;     gamma_i = 65\n",
    "    G_e = 0.18;        G_i = 0.37\n",
    "    Nb_ee = 3034.0;    Nb_ei = 3034.0;\n",
    "    Nb_ie = 536.0;     Nb_ii = 536\n",
    "    Smax_e = 100;      Smax_i = 100\n",
    "    theta_e = -60;     theta_i = -60\n",
    "    g_e = 0.28;        g_i = 0.14\n",
    "    \n",
    "    N = 50000+20000;\n",
    "    dt = 0.0001;\n",
    "    \n",
    "    he = np.zeros([N])                         # Output variables\n",
    "    hi = np.zeros([N])\n",
    "    t = np.arange(N)*dt                        # Time in [s].\n",
    "    \n",
    "    he[0] = hrest_e * np.random.rand()         # Initial conditions\n",
    "    hi[0] = hrest_i * np.random.rand()\n",
    "    Iee = np.random.rand();\n",
    "    Iei = np.random.rand();\n",
    "    Iie = np.random.rand();\n",
    "    Iii = np.random.rand();\n",
    "    Jee = np.random.rand();\n",
    "    Jei = np.random.rand();\n",
    "    Jie = np.random.rand();\n",
    "    Jii = np.random.rand();\n",
    "    \n",
    "    for n in np.arange(N-1):                   # Simulate the model\n",
    "        \n",
    "        phi_ee = (hrev_e - he[n])/np.abs(hrev_e - hrest_e)\n",
    "        phi_ei = (hrev_e - hi[n])/np.abs(hrev_e - hrest_i)\n",
    "        phi_ie = (hrev_i - he[n])/np.abs(hrev_i - hrest_e)\n",
    "        phi_ii = (hrev_i - hi[n])/np.abs(hrev_i - hrest_i)\n",
    "        \n",
    "        Se = Smax_e/(1 + np.exp(-g_e*(he[n]-theta_e)))\n",
    "        Si = Smax_i/(1 + np.exp(-g_i*(hi[n]-theta_i)))\n",
    "        \n",
    "        he[n+1] = he[n]   + dt*1/tau_e * ( (hrest_e - he[n]) + phi_ee*Iee + phi_ie*Iie                 + noise[\"he\"]   *np.random.randn())\n",
    "        hi[n+1] = hi[n]   + dt*1/tau_i * ( (hrest_i - hi[n]) + phi_ei*Iei + phi_ii*Iii                 + noise[\"other\"]*np.random.randn())\n",
    "        Iee = Iee + dt*( Jee                                                                           + noise[\"other\"]*np.random.randn())\n",
    "        Jee = Jee + dt*( -2*gamma_e*Jee - gamma_e*gamma_e*Iee + (Nb_ee*Se + Pee)*G_e*gamma_e*np.exp(1) + noise[\"other\"]*np.random.randn())\n",
    "        Iei = Iei + dt*( Jei                                                                           + noise[\"other\"]*np.random.randn())\n",
    "        Jei = Jei + dt*( -2*gamma_e*Jei - gamma_e*gamma_e*Iei + (Nb_ei*Se + Pei)*G_e*gamma_e*np.exp(1) + noise[\"other\"]*np.random.randn())\n",
    "        Iie = Iie + dt*( Jie                                                                           + noise[\"other\"]*np.random.randn())\n",
    "        Jie = Jie + dt*( -2*gamma_i*Jie - gamma_i*gamma_i*Iie + (Nb_ie*Si + Pie)*G_i*gamma_i*np.exp(1) + noise[\"other\"]*np.random.randn())\n",
    "        Iii = Iii + dt*( Jii                                                                           + noise[\"other\"]*np.random.randn())\n",
    "        Jii = Jii + dt*( -2*gamma_i*Jii - gamma_i*gamma_i*Iii + (Nb_ii*Si + Pii)*G_i*gamma_i*np.exp(1) + noise[\"other\"]*np.random.randn())\n",
    "                     \n",
    "    he = he[20000:]\n",
    "    t  = t[20000:]-t[20000]\n",
    "    \n",
    "    return he,t"
   ]
  },
  {
   "cell_type": "markdown",
   "id": "27943068-c189-420c-8abc-e6f40e69cb7f",
   "metadata": {},
   "source": [
    "## Figure 4A-D: Simulate the model, and plot it."
   ]
  },
  {
   "cell_type": "code",
   "execution_count": null,
   "id": "72ce6244-e1bb-4281-acf6-dfcffbab77a6",
   "metadata": {},
   "outputs": [],
   "source": [
    "noise = {\"he\":[],                           # Set the observable noise,\n",
    "         \"other\":50  }                      # ... and the latent noise.\n",
    "fig, ((ax1, ax2,), (ax3, ax4)) = plt.subplots(2, 2,figsize=(12, 6), dpi=80)\n",
    "\n",
    "noise[\"he\"]=0;                              # Observable noise = 0.\n",
    "[he,t] = steyn_ross_2003(noise)             # Simulate model,\n",
    "[S,f]  = compute_spectrum(he,t)             # ... compute the spectrum & fit aperiodic exponent.\n",
    "[aperiodic_exponent, x_linear_fit, y_linear_fit] = estimate_aperiodic_exponent(S,f,[50,1000])\n",
    "make_plots(t,he, f,S, x_linear_fit,y_linear_fit,aperiodic_exponent, ax1,ax3);\n",
    "ax1.set_ylim([-85, -83]); ax3.set_ylim([-20, 0]); ax3.set_xlim([0,3]); ax1.set(ylabel='[mV]');\n",
    "\n",
    "noise[\"he\"]=1;                              # Observable noise > 0.\n",
    "[he,t] = steyn_ross_2003(noise)             # Simulate model,\n",
    "[S,f]  = compute_spectrum(he,t)             # ... compute the spectrum & fit aperiodic exponent.\n",
    "[aperiodic_exponent, x_linear_fit, y_linear_fit] = estimate_aperiodic_exponent(S,f,[50,1000])\n",
    "make_plots(t,he, f,S, x_linear_fit,y_linear_fit,aperiodic_exponent, ax2,ax4);\n",
    "ax2.set_ylim([-85, -83]); ax4.set_ylim([-20, 0]); ax4.set_xlim([0,3]); ax2.set(ylabel='[mV]')\n",
    "\n",
    "fig.savefig(\"./PDFs/Figure-4ABCD.pdf\", bbox_inches='tight')"
   ]
  },
  {
   "cell_type": "markdown",
   "id": "3fb871a9-88c7-4f98-b93b-773f64902473",
   "metadata": {},
   "source": [
    "## Figure 4E (Part 1): Iterate over values of noise and plot aperiodic exponent\n",
    "This part is slow."
   ]
  },
  {
   "cell_type": "code",
   "execution_count": null,
   "id": "b6094ce4-2024-433b-910d-5c271ae70570",
   "metadata": {},
   "outputs": [],
   "source": [
    "noise = {\"he\":[],                                          # Prepare the noise variable.\n",
    "         \"other\":50  }                                     # ... fix the I-noise,\n",
    "noise_values = np.arange(0.0,1, 0.01)                      # ... define range of E-noises.\n",
    "N_replicates = 100                                         # Number of times to repeat simulation.\n",
    "aperiodic_exponents = np.zeros([np.size(noise_values), N_replicates])\n",
    "\n",
    "for [count, he_noise] in enumerate(noise_values):          # For each E-noise,\n",
    "    noise[\"he\"]=he_noise\n",
    "    print(\"he_noise: %.4f\" % he_noise)\n",
    "    for j in np.arange(N_replicates):\n",
    "        [he,t] = steyn_ross_2003(noise)                    # Simulate model N_replicate times,\n",
    "        [S,f]  = compute_spectrum(he,t)                    # ... compute the spectrum,\n",
    "        ae = estimate_aperiodic_exponent(S,f,[50,1000])[0]  # ... fit aperiodic exponent,\n",
    "        aperiodic_exponents[count, j] = ae                 # ... and save it.\n",
    "                                                           # Save the results.\n",
    "res = {\"noise_values\":noise_values, \"aperiodic_exponents\":aperiodic_exponents}\n",
    "io.savemat(str('Figure-4E.mat'), res)"
   ]
  },
  {
   "cell_type": "markdown",
   "id": "537da9c6-3818-4733-b275-5333e1292b23",
   "metadata": {},
   "source": [
    "## Figure 4E (Part 2): Load the aperiodic exponent, and plot it.\n",
    "\n",
    "This part is fast."
   ]
  },
  {
   "cell_type": "code",
   "execution_count": null,
   "id": "68192a3a-beaf-4f91-aa2d-07b5751b4d39",
   "metadata": {},
   "outputs": [],
   "source": [
    "# Note: if you're running on Google Colab, then load the .mat file like this:\n",
    "# res = io.loadmat(\"/content/Aperiodic-Exponent-Model/Figure-4E.mat\");\n",
    "\n",
    "# Or, if not running on Google Colab, then load the .mat file like this:\n",
    "res = io.loadmat(\"Figure-4E.mat\")\n",
    "res = {\"noise_values\":res[\"noise_values\"], \"aperiodic_exponents\":res[\"aperiodic_exponents\"],\n",
    "       \"color\":\"red\"};\n",
    "fig = plt.figure(figsize=(12, 4), dpi=80)\n",
    "make_plot_ae_vs_noise(res)\n",
    "\n",
    "fig.savefig(\"./PDFs/Figure-4E.pdf\", bbox_inches='tight')"
   ]
  }
 ],
 "metadata": {
  "kernelspec": {
   "display_name": "Python 3",
   "language": "python",
   "name": "python3"
  },
  "language_info": {
   "codemirror_mode": {
    "name": "ipython",
    "version": 3
   },
   "file_extension": ".py",
   "mimetype": "text/x-python",
   "name": "python",
   "nbconvert_exporter": "python",
   "pygments_lexer": "ipython3",
   "version": "3.8.8"
  }
 },
 "nbformat": 4,
 "nbformat_minor": 5
}
